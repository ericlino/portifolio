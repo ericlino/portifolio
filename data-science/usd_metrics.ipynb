{
 "cells": [
  {
   "cell_type": "markdown",
   "id": "727dee23",
   "metadata": {},
   "source": [
    "# Métricas do câmbio do dólar (2025)\n",
    "\n",
    "## About\n",
    "\n",
    "Este projeto tem como objetivo gerar estatísticas básicas para analisar a flutuação de valor do dólar em relação ao real durante o ano de 2025. Para isso, foram utilizadas técnicas de webscraping para obter a série histórica do dólar para o ano. Uma vez obtidos, os valores foram adicionados a uma planilha excel salva em nuvem, que por sua vez está vinculada a um dashboard Google Looker, onde foram geradas as estatísticas. \n",
    "\n",
    "O projeto está estruturado de forma a sempre os últimos valores divulgados, portanto, para atualizar o dashboard, basta rodar o código abaixo:\n"
   ]
  },
  {
   "cell_type": "code",
   "execution_count": 1,
   "id": "a0249344",
   "metadata": {},
   "outputs": [],
   "source": [
    "import requests\n",
    "import pandas as pd\n",
    "from datetime import datetime\n",
    "import lxml\n",
    "import openpyxl"
   ]
  },
  {
   "cell_type": "markdown",
   "id": "a1f53539",
   "metadata": {},
   "source": [
    "### Definindo as variáveis:"
   ]
  },
  {
   "cell_type": "code",
   "execution_count": 2,
   "id": "c9fa5907",
   "metadata": {},
   "outputs": [],
   "source": [
    "URL = \"https://idealsoftwares.com.br/indices/dolar2025.html\"\n",
    "HEADERS = {\"User-Agent\": \"Mozilla/5.0 (compatible; GitHub Copilot)\"}\n",
    "wd = \"G:\\\\Meu Drive\\\\Eric\\\\Educação\\\\MBA_USP\\\\dsc_data\""
   ]
  },
  {
   "cell_type": "markdown",
   "id": "8c737d05",
   "metadata": {},
   "source": [
    "### Definindo as funções:\n",
    "\n"
   ]
  },
  {
   "cell_type": "code",
   "execution_count": 3,
   "id": "f8df9c2a",
   "metadata": {},
   "outputs": [],
   "source": [
    "def busca_tabela(url):\n",
    "    resp = requests.get(url, headers=HEADERS, timeout=15)\n",
    "    resp.raise_for_status()\n",
    "    resp.encoding = \"utf-8\"\n",
    "    tabelas = pd.read_html(resp.text)\n",
    "    return tabelas\n",
    "\n",
    "def pick_tabela(tabelas):\n",
    "    if not tabelas:\n",
    "        raise ValueError(\"Não foi possível encontrar tabelas na página.\")\n",
    "    # Trará a primeira tabela do array. Como já foi analisada a página destino, é sabido que há apenas uma tabela, portanto não há a necessidade de ajustes.\n",
    "    return tabelas[0]\n",
    "\n",
    "def clean_table(df: pd.DataFrame) -> pd.DataFrame:\n",
    "    # basic clean: strip string columns and drop fully empty columns/rows\n",
    "    df = df.dropna(axis=1, how=\"all\").dropna(axis=0, how=\"all\")\n",
    "    for col in df.select_dtypes(include=[\"object\"]).columns:\n",
    "        df[col] = df[col].str.strip()\n",
    "    return df"
   ]
  },
  {
   "cell_type": "code",
   "execution_count": 13,
   "id": "b3c9e3f8",
   "metadata": {},
   "outputs": [
    {
     "name": "stdout",
     "output_type": "stream",
     "text": [
      "Planilha salva em: G:\\Meu Drive\\Eric\\Educação\\MBA_USP\\dsc_data\n"
     ]
    },
    {
     "name": "stderr",
     "output_type": "stream",
     "text": [
      "C:\\Users\\Mr_Li\\AppData\\Local\\Temp\\ipykernel_72532\\2248515830.py:5: FutureWarning: Passing literal html to 'read_html' is deprecated and will be removed in a future version. To read from a literal string, wrap it in a 'StringIO' object.\n",
      "  tabelas = pd.read_html(resp.text)\n"
     ]
    }
   ],
   "source": [
    "if __name__ == \"__main__\":\n",
    "    tabelas = busca_tabela(URL)\n",
    "    df = pick_tabela(tabelas)\n",
    "    df = clean_table(df)\n",
    "    out_file = df.to_csv(f\"{wd}\\\\USD2025_stats.csv\", index=False)\n",
    "    print(\"Planilha salva em:\", wd)\n"
   ]
  },
  {
   "cell_type": "markdown",
   "id": "489a8240",
   "metadata": {},
   "source": [
    "O processo de webscraping nem sempre reconhece os formatos corretos de cada coluna. Por exemplo, nesta tabela que puxamos, a coluna de data veio como \"object\". Isso pode gerar problemas ao levar a tabela exportada para outro software. O ideal é corrigirmos o formatos dos arquivos agora, na fonte.\n",
    "\n",
    "### Pré-processamento dos dados\n",
    "\n",
    "O Seguido bloco de código analisa os tipos de dado em cada coluna e os formato para os formatos que serão melhor aprtoveitados no nosso BI."
   ]
  },
  {
   "cell_type": "code",
   "execution_count": 14,
   "id": "75fb5564",
   "metadata": {},
   "outputs": [
    {
     "name": "stdout",
     "output_type": "stream",
     "text": [
      "Data             object\n",
      "Dólar Compra    float64\n",
      "Dólar Venda     float64\n",
      "dtype: object\n",
      "Data            datetime64[ns]\n",
      "Dólar Compra           Float64\n",
      "Dólar Venda            Float64\n",
      "dtype: object\n",
      "Planilha atualizada em: G:\\Meu Drive\\Eric\\Educação\\MBA_USP\\dsc_data\n"
     ]
    }
   ],
   "source": [
    "# Verificando os tipos de dados e convertendo a coluna de data. Coluna \"Data\" veio errado (object)\n",
    "print(df.dtypes)\n",
    "\n",
    "dfn[\"Data\"] = pd.to_datetime(df[\"Data\"], format=\"%d/%m/%Y\")\n",
    "print(dfn.dtypes)\n",
    "\n",
    "dfn.to_csv(f\"{wd}\\\\USD2025_stats.csv\", index=False)\n",
    "print(\"Planilha atualizada em:\", wd)\n"
   ]
  },
  {
   "cell_type": "code",
   "execution_count": 15,
   "id": "30c401a5",
   "metadata": {},
   "outputs": [
    {
     "name": "stdout",
     "output_type": "stream",
     "text": [
      "        Data  Dólar Compra  Dólar Venda\n",
      "0 2025-10-01        5.3202       5.3208\n",
      "1 2025-09-30         5.318       5.3186\n",
      "2 2025-09-29        5.3223       5.3229\n",
      "3 2025-09-26        5.3439       5.3445\n",
      "4 2025-09-25        5.3419       5.3425\n",
      "Média:  5.648441798941799\n",
      "Mediana:  5.6539\n",
      "Mínimo:  5.301\n",
      "Máximo:  6.2086\n",
      "Moda:  0    5.3208\n",
      "1    5.3928\n",
      "2    5.4278\n",
      "3    5.4571\n",
      "4    5.5722\n",
      "5    5.7087\n",
      "6    5.7788\n",
      "Name: Dólar Venda, dtype: float64\n"
     ]
    }
   ],
   "source": [
    "# Para conferir se o arquivo foi salvo corretamente, podemos imprimir as primeiras linhas da tabela com:\n",
    "\n",
    "print(dfn.head())\n",
    "\n",
    "# Algumas estatísticas básicas sobre a coluna \"Dólar Venda\":\n",
    "print(\"Média: \", df[\"Dólar Venda\"].mean())\n",
    "print(\"Mediana: \", df[\"Dólar Venda\"].median())\n",
    "print(\"Mínimo: \", df[\"Dólar Venda\"].min())\n",
    "print(\"Máximo: \", df[\"Dólar Venda\"].max())\n",
    "print(\"Moda: \", df[\"Dólar Venda\"].mode())"
   ]
  },
  {
   "cell_type": "markdown",
   "id": "1d50cf44",
   "metadata": {},
   "source": [
    "Neste caso, podemos observar algumas estatísticas básicas extraídas usando a biblioteca Pandas. O valor para moda chama a atenção, pois ele não possui um único valor e sim 7 valores diferentes, elencados em ordem crescente. Isso significa que para este conjunto de entrada existem 7 modas diferentes. Isto não representa um erro necessariamente. No caso do nosso conjunto de dados, podemos ver que há 4 casas decimais, o que gera uma probabilidade muito baixa de que dois valores se repitam.\n",
    "\n",
    "### Arquivo auxiliar: Tabela calendário\n",
    "\n",
    "Já temos o nosos objeto de análise. Porém, como a bolsa de valores não abre aos finais de semana, há uma série de buracos no nosso dado, referentes aos finais de semana. Para isso, precisamos de uma planilha com todos os dias do ano e assim poderemos endereçar os zeros na cotação do dólar."
   ]
  },
  {
   "cell_type": "code",
   "execution_count": 23,
   "id": "b5850c06",
   "metadata": {},
   "outputs": [
    {
     "name": "stdout",
     "output_type": "stream",
     "text": [
      "Planilha calendário com cotação do dólar salva em: G:\\Meu Drive\\Eric\\Educação\\MBA_USP\\dsc_data\n",
      "        Data  Dólar Compra  Dólar Venda\n",
      "0 2025-01-01          <NA>         <NA>\n",
      "1 2025-01-02         6.208       6.2086\n",
      "2 2025-01-03        6.1557       6.1563\n",
      "3 2025-01-04          <NA>         <NA>\n",
      "4 2025-01-05          <NA>         <NA>\n"
     ]
    }
   ],
   "source": [
    "calendario = pd.date_range(start=\"2025-01-01\", end=pd.Timestamp.today(), freq=\"D\")\n",
    "#print(calendario)\n",
    "calendario_df = pd.DataFrame(calendario, columns=[\"Data\"])\n",
    "cdf = calendario_df.merge(dfn, on=\"Data\", how=\"left\")\n",
    "calendario_df.to_csv(f\"{wd}\\\\USD_Stats_fulldays.csv\", index=False)\n",
    "print(\"Planilha calendário com cotação do dólar salva em:\", wd)\n",
    "print(cdf.head())"
   ]
  }
 ],
 "metadata": {
  "kernelspec": {
   "display_name": "base",
   "language": "python",
   "name": "python3"
  },
  "language_info": {
   "codemirror_mode": {
    "name": "ipython",
    "version": 3
   },
   "file_extension": ".py",
   "mimetype": "text/x-python",
   "name": "python",
   "nbconvert_exporter": "python",
   "pygments_lexer": "ipython3",
   "version": "3.13.5"
  }
 },
 "nbformat": 4,
 "nbformat_minor": 5
}
