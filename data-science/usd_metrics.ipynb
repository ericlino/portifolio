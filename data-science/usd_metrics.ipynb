{
 "cells": [
  {
   "cell_type": "markdown",
   "id": "727dee23",
   "metadata": {},
   "source": [
    "# Métricas do câmbio do dólar (2025)\n",
    "\n",
    "## About\n",
    "\n",
    "Este projeto tem como objetivo gerar estatísticas básicas para analisar a flutuação de valor do dólar em relação ao real durante o ano de 2025. Para isso, foram utilizadas técnicas de webscraping para obter a série histórica do dólar para o ano. Uma vez obtidos, os valores foram adicionados a uma planilha excel salva em nuvem, que por sua vez está vinculada a um dashboard Google Looker, onde foram geradas as estatísticas. \n",
    "\n",
    "O projeto está estruturado de forma a sempre os últimos valores divulgados, portanto, para atualizar o dashboard, basta rodar o código abaixo:\n"
   ]
  },
  {
   "cell_type": "code",
   "execution_count": 1,
   "id": "a0249344",
   "metadata": {},
   "outputs": [],
   "source": [
    "import requests\n",
    "import pandas as pd\n",
    "from datetime import datetime\n"
   ]
  },
  {
   "cell_type": "code",
   "execution_count": null,
   "id": "f8df9c2a",
   "metadata": {},
   "outputs": [],
   "source": [
    "\n",
    "# scrape_to_excel.py\n",
    "# Fetch the table from https://idealsoftwares.com.br/indices/dolar2025.html and save to a local Excel file.\n",
    "\n",
    "\n",
    "URL = \"https://idealsoftwares.com.br/indices/dolar2025.html\"\n",
    "HEADERS = {\"User-Agent\": \"Mozilla/5.0 (compatible; GitHub Copilot)\"}\n",
    "\n",
    "def fetch_tables(url):\n",
    "    resp = requests.get(url, headers=HEADERS, timeout=15)\n",
    "    resp.raise_for_status()\n",
    "    # let pandas detect encoding from the HTML text\n",
    "    tables = pd.read_html(resp.text)\n",
    "    return tables\n",
    "\n",
    "def choose_table(tables):\n",
    "    if not tables:\n",
    "        raise ValueError(\"No tables found on the page.\")\n",
    "    # choose the most likely table (first). Adjust index if needed.\n",
    "    return tables[0]\n",
    "\n",
    "def clean_table(df: pd.DataFrame) -> pd.DataFrame:\n",
    "    # basic clean: strip string columns and drop fully empty columns/rows\n",
    "    df = df.dropna(axis=1, how=\"all\").dropna(axis=0, how=\"all\")\n",
    "    for col in df.select_dtypes(include=[\"object\"]).columns:\n",
    "        df[col] = df[col].str.strip()\n",
    "    return df\n",
    "\n",
    "def save_to_excel(df: pd.DataFrame, prefix=\"dolar2025\"):\n",
    "    ts = datetime.now().strftime(\"%Y%m%d_%H%M%S\")\n",
    "    filename = f\"{prefix}_{ts}.xlsx\"\n",
    "    df.to_excel(filename, index=False)\n",
    "    return filename\n",
    "\n",
    "if __name__ == \"__main__\":\n",
    "    tables = fetch_tables(URL)\n",
    "    df = choose_table(tables)\n",
    "    df = clean_table(df)\n",
    "    out_file = save_to_excel(df)\n",
    "    print(f\"Saved table to: {out_file}\")\n",
    "    print(df.head())"
   ]
  }
 ],
 "metadata": {
  "kernelspec": {
   "display_name": "base",
   "language": "python",
   "name": "python3"
  },
  "language_info": {
   "codemirror_mode": {
    "name": "ipython",
    "version": 3
   },
   "file_extension": ".py",
   "mimetype": "text/x-python",
   "name": "python",
   "nbconvert_exporter": "python",
   "pygments_lexer": "ipython3",
   "version": "3.13.5"
  }
 },
 "nbformat": 4,
 "nbformat_minor": 5
}
