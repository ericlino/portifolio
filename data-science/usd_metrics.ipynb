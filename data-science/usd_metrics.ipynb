{
 "cells": [
  {
   "cell_type": "markdown",
   "id": "727dee23",
   "metadata": {},
   "source": [
    "# Métricas do câmbio do dólar (2025)\n",
    "\n",
    "## About\n",
    "\n",
    "Este projeto tem como objetivo gerar estatísticas básicas para analisar a flutuação de valor do dólar em relação ao real durante o ano de 2025. Para isso, foram utilizadas técnicas de webscraping para obter a série histórica do dólar para o ano. Uma vez obtidos, os valores foram adicionados a uma planilha excel salva em nuvem, que por sua vez está vinculada a um dashboard Google Looker, onde foram geradas as estatísticas. \n",
    "\n",
    "O projeto está estruturado de forma a sempre os últimos valores divulgados, portanto, para atualizar o dashboard, basta rodar o código abaixo:\n"
   ]
  },
  {
   "cell_type": "code",
   "execution_count": 5,
   "id": "a0249344",
   "metadata": {},
   "outputs": [],
   "source": [
    "import requests\n",
    "import pandas as pd\n",
    "from datetime import datetime\n",
    "import lxml\n",
    "import openpyxl"
   ]
  },
  {
   "cell_type": "markdown",
   "id": "a1f53539",
   "metadata": {},
   "source": [
    "### Definindo as variáveis:"
   ]
  },
  {
   "cell_type": "code",
   "execution_count": 14,
   "id": "c9fa5907",
   "metadata": {},
   "outputs": [],
   "source": [
    "URL = \"https://idealsoftwares.com.br/indices/dolar2025.html\"\n",
    "HEADERS = {\"User-Agent\": \"Mozilla/5.0 (compatible; GitHub Copilot)\"}\n",
    "wd = \"G:\\\\Meu Drive\\\\Eric\\\\Educação\\\\MBA_USP\\\\dsc_data\""
   ]
  },
  {
   "cell_type": "markdown",
   "id": "8c737d05",
   "metadata": {},
   "source": [
    "### Definindo as funções:\n",
    "\n"
   ]
  },
  {
   "cell_type": "code",
   "execution_count": 16,
   "id": "f8df9c2a",
   "metadata": {},
   "outputs": [],
   "source": [
    "def busca_tabela(url):\n",
    "    resp = requests.get(url, headers=HEADERS, timeout=15)\n",
    "    resp.raise_for_status()\n",
    "    resp.encoding = \"utf-8\"\n",
    "    tabelas = pd.read_html(resp.text)\n",
    "    return tabelas\n",
    "\n",
    "def pick_tabela(tabelas):\n",
    "    if not tabelas:\n",
    "        raise ValueError(\"Não foi possível encontrar tabelas na página.\")\n",
    "    # Trará a primeira tabela do array. Como já foi analisada a página destino, é sabido que há apenas uma tabela, portanto não há a necessidade de ajustes.\n",
    "    return tabelas[0]\n",
    "\n",
    "def clean_table(df: pd.DataFrame) -> pd.DataFrame:\n",
    "    # basic clean: strip string columns and drop fully empty columns/rows\n",
    "    df = df.dropna(axis=1, how=\"all\").dropna(axis=0, how=\"all\")\n",
    "    for col in df.select_dtypes(include=[\"object\"]).columns:\n",
    "        df[col] = df[col].str.strip()\n",
    "    return df"
   ]
  },
  {
   "cell_type": "code",
   "execution_count": 38,
   "id": "b3c9e3f8",
   "metadata": {},
   "outputs": [
    {
     "name": "stdout",
     "output_type": "stream",
     "text": [
      "Planilha salva em: G:\\Meu Drive\\Eric\\Educação\\MBA_USP\\dsc_data\n"
     ]
    },
    {
     "name": "stderr",
     "output_type": "stream",
     "text": [
      "C:\\Users\\Mr_Li\\AppData\\Local\\Temp\\ipykernel_41888\\2248515830.py:5: FutureWarning: Passing literal html to 'read_html' is deprecated and will be removed in a future version. To read from a literal string, wrap it in a 'StringIO' object.\n",
      "  tabelas = pd.read_html(resp.text)\n"
     ]
    }
   ],
   "source": [
    "if __name__ == \"__main__\":\n",
    "    tabelas = busca_tabela(URL)\n",
    "    df = pick_tabela(tabelas)\n",
    "    df = clean_table(df)\n",
    "    out_file = df.to_excel(f\"{wd}\\\\USD2025_stats.xlsx\", index=False)\n",
    "    print(\"Planilha salva em:\", wd)\n"
   ]
  },
  {
   "cell_type": "code",
   "execution_count": null,
   "id": "30c401a5",
   "metadata": {},
   "outputs": [
    {
     "name": "stdout",
     "output_type": "stream",
     "text": [
      "         Data  Dólar Compra  Dólar Venda\n",
      "0  01/10/2025        5.3202       5.3208\n",
      "1  30/09/2025        5.3180       5.3186\n",
      "2  29/09/2025        5.3223       5.3229\n",
      "3  26/09/2025        5.3439       5.3445\n",
      "4  25/09/2025        5.3419       5.3425\n",
      "Média:  5.648441798941799\n",
      "Mediana:  5.6539\n",
      "Mínimo:  5.301\n",
      "Máximo:  6.2086\n"
     ]
    }
   ],
   "source": [
    "# Para conferir se o arquivo foi salvo corretamente, podemos imprimir as primeiras linhas da tabela com:\n",
    "\n",
    "print(df.head())\n",
    "\n",
    "# Algumas estatísticas básicas sobre a coluna \"Dólar Venda\":\n",
    "print(\"Média: \", df[\"Dólar Venda\"].mean())\n",
    "print(\"Mediana: \", df[\"Dólar Venda\"].median())\n",
    "print(\"Mínimo: \", df[\"Dólar Venda\"].min())\n",
    "print(\"Máximo: \", df[\"Dólar Venda\"].max())\n",
    "\n"
   ]
  }
 ],
 "metadata": {
  "kernelspec": {
   "display_name": "base",
   "language": "python",
   "name": "python3"
  },
  "language_info": {
   "codemirror_mode": {
    "name": "ipython",
    "version": 3
   },
   "file_extension": ".py",
   "mimetype": "text/x-python",
   "name": "python",
   "nbconvert_exporter": "python",
   "pygments_lexer": "ipython3",
   "version": "3.13.5"
  }
 },
 "nbformat": 4,
 "nbformat_minor": 5
}
